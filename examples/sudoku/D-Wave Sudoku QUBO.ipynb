{
 "cells": [
  {
   "cell_type": "markdown",
   "id": "54893dc3",
   "metadata": {},
   "source": [
    "<h1>D-Wave BQM/QUBO formulation sudoku solver<h1>\n",
    "\n",
    "<h2>July 2022 by Emilio Pomares (epomares@swaap.us)<h2>"
   ]
  },
  {
   "cell_type": "code",
   "execution_count": 1,
   "id": "0179ad10",
   "metadata": {},
   "outputs": [],
   "source": [
    "# Imports\n",
    "\n",
    "from sudoku import Sudoku as s\n",
    "import numpy as np\n",
    "from dimod import BinaryQuadraticModel\n",
    "from dimod import SimulatedAnnealingSampler\n",
    "from dwave.system.composites import EmbeddingComposite\n",
    "from dimod import Binary\n",
    "from dimod import BINARY\n",
    "\n",
    "from dwave.system import DWaveSampler\n",
    "from dwave.system import LeapHybridSampler\n",
    "\n",
    "# select a sampler by commenting/uncommenting:\n",
    "\n",
    "#sampler = EmbeddingComposite(DWaveSampler(token='Your API Key here')\n",
    "#sampler = LeapHybridSampler(token='Your API Key here')\n",
    "sampler = SimulatedAnnealingSampler()"
   ]
  },
  {
   "cell_type": "code",
   "execution_count": 2,
   "id": "7f6b9038",
   "metadata": {},
   "outputs": [],
   "source": [
    "# Define sizes\n",
    "\n",
    "size = 3\n",
    "maxRange = size*size"
   ]
  },
  {
   "cell_type": "code",
   "execution_count": 3,
   "id": "b8de61f9",
   "metadata": {},
   "outputs": [
    {
     "name": "stdout",
     "output_type": "stream",
     "text": [
      "+-------+-------+-------+\n",
      "|   7   |       |       |\n",
      "|       |       |       |\n",
      "|   6   |       |       |\n",
      "+-------+-------+-------+\n",
      "|   1 2 |       |   5   |\n",
      "|       |   8   |   6 7 |\n",
      "| 7     |       |       |\n",
      "+-------+-------+-------+\n",
      "|     1 |     9 | 2     |\n",
      "|   9   |   5   |       |\n",
      "|   2 7 |       |   9   |\n",
      "+-------+-------+-------+\n",
      "\n"
     ]
    }
   ],
   "source": [
    "# Generate a puzzle and visualize it\n",
    "\n",
    "puzzle = s(size).difficulty(0.8)\n",
    "puzzle.show()"
   ]
  },
  {
   "cell_type": "code",
   "execution_count": 4,
   "id": "dfdcbece",
   "metadata": {},
   "outputs": [
    {
     "data": {
      "text/plain": [
       "[[None, 7, None, None, None, None, None, None, None],\n",
       " [None, None, None, None, None, None, None, None, None],\n",
       " [None, 6, None, None, None, None, None, None, None],\n",
       " [None, 1, 2, None, None, None, None, 5, None],\n",
       " [None, None, None, None, 8, None, None, 6, 7],\n",
       " [7, None, None, None, None, None, None, None, None],\n",
       " [None, None, 1, None, None, 9, 2, None, None],\n",
       " [None, 9, None, None, 5, None, None, None, None],\n",
       " [None, 2, 7, None, None, None, None, 9, None]]"
      ]
     },
     "execution_count": 4,
     "metadata": {},
     "output_type": "execute_result"
    }
   ],
   "source": [
    "# See board data\n",
    "\n",
    "puzzle.board"
   ]
  },
  {
   "cell_type": "markdown",
   "id": "359352d9",
   "metadata": {},
   "source": [
    "<h3>Let's encode the number in each cell as a one-hot encoded vector of length maxRange, \n",
    "thus, the sudoku board becomes a cube of (maxRange x maxRange x maxRange) binary variables</h3>"
   ]
  },
  {
   "cell_type": "code",
   "execution_count": 5,
   "id": "e2b4f127",
   "metadata": {},
   "outputs": [],
   "source": [
    "# Initialize linear and quadratic coeffs dictionaries\n",
    "\n",
    "linear = {}\n",
    "quadratic = {}"
   ]
  },
  {
   "cell_type": "markdown",
   "id": "cd83caec",
   "metadata": {},
   "source": [
    "<h3>We need to add three families of constraints to solve a sudoku: <br><br>\n",
    "\n",
    "        1. Numbers present in challenge must be preserved\n",
    "        2. Numbers cannot repeat accross columns and rows\n",
    "        3. Numbers cannot repeat across (size x size) cells\n",
    "\n",
    "</h3>"
   ]
  },
  {
   "cell_type": "code",
   "execution_count": 6,
   "id": "b6e6188d",
   "metadata": {},
   "outputs": [],
   "source": [
    "# QUBO coefficients building functions\n",
    "\n",
    "def map_linear_to_cell(k, cell_size=size):\n",
    "    '''\n",
    "    Maps a cell's linear index in the range [0,size*size-1]\n",
    "    to a (i, j) coordinate in the range [0, size-1], [0, size-1]\n",
    "    '''\n",
    "    return (k%cell_size, k//cell_size)\n",
    "\n",
    "def add_linear(index, val):\n",
    "    '''\n",
    "    Adds influence to linear bias\n",
    "    '''\n",
    "    if not index in linear:\n",
    "        linear[index] = val\n",
    "    else:\n",
    "        linear[index] += val\n",
    "        \n",
    "def add_quad(indexA, indexB, val):\n",
    "    '''\n",
    "    Adds coupling strength influence\n",
    "    \n",
    "    This function is repeated indices safe\n",
    "    '''\n",
    "    if indexA == indexB:\n",
    "        return\n",
    "    key = (indexA, indexB)\n",
    "    if indexB > indexA:\n",
    "        key = (indexB, indexA)\n",
    "    if not key in quadratic:\n",
    "        quadratic[key] = val\n",
    "    else:\n",
    "        quadratic[key] += val\n",
    "        \n",
    "def linear_index(i, j, k):\n",
    "    '''\n",
    "    Transforms from (i, j, k) coordinates in the range\n",
    "    ([0, size*size-1], [0, size*size-1], [0, size*size-1])\n",
    "    to a linear index in the range [0, (size*size)^3-1]\n",
    "    '''\n",
    "    return i*maxRange*maxRange + j*maxRange + k\n",
    "\n",
    "def add_eq_constraint_coeffs(i, j, k):\n",
    "    '''\n",
    "    Helper function for add_existing_numbers_constraints\n",
    "    '''\n",
    "    for sk in range(0, maxRange):\n",
    "        if k == sk:\n",
    "            add_linear(linear_index(i,j,sk), -2) # should be -1, 1, but a little more strength...\n",
    "        else:\n",
    "            add_linear(linear_index(i,j,sk), 2)\n",
    "    return\n",
    "\n",
    "def add_existing_numbers_constraints():\n",
    "    '''\n",
    "    Adds influences related to numbers-in-board equality constraints\n",
    "    to the QUBO matrix\n",
    "    '''\n",
    "    for i in range(0,maxRange):\n",
    "        for j in range(0,maxRange):\n",
    "            if puzzle.board[i][j]:\n",
    "                add_eq_constraint_coeffs(i,j,puzzle.board[i][j]-1)\n",
    "\n",
    "def add_just_one_constraints_coeffs():\n",
    "    '''\n",
    "    Adds influences related to non-repeating-numbers in rows,columns equality \n",
    "    constraints to the QUBO matrix\n",
    "    '''\n",
    "    for i in range(0,maxRange):\n",
    "        for j in range(0,maxRange):\n",
    "            for k in range(0,maxRange):\n",
    "                for w in range(0,maxRange):\n",
    "                    # add_quad will take care of repeated indices\n",
    "                    add_quad(linear_index(i,j,k), linear_index(i,j,w), 2) \n",
    "                    add_quad(linear_index(i,k,j), linear_index(i,w,j), 2)\n",
    "                    add_quad(linear_index(k,i,j), linear_index(w,i,j), 2)\n",
    "                add_linear(linear_index(i,j,k), -1)\n",
    "                add_linear(linear_index(i,k,j), -1)\n",
    "                add_linear(linear_index(k,i,j), -1)\n",
    "    return\n",
    "\n",
    "def add_cell_constraints_coeffs():\n",
    "    '''\n",
    "    Adds influences related to the non-repeating-numbers-in-cell constraints\n",
    "    to the QUBO matrix\n",
    "    '''\n",
    "    for i_cell in range(0, size):\n",
    "        for j_cell in range(0, size):\n",
    "            for depth in range(0, maxRange):\n",
    "                for k in range(0, maxRange):\n",
    "                    ik,jk=map_linear_to_cell(k)\n",
    "                    for w in range(0, maxRange):\n",
    "                        iw,jw=map_linear_to_cell(w)\n",
    "                        # add_quad will take care of repeated indices\n",
    "                        add_quad(linear_index(i_cell*size+ik,j_cell*size+jk,depth), linear_index(i_cell*size+iw,j_cell*size+jw,depth), 2) \n",
    "                    add_linear(linear_index(i_cell*size+ik,j_cell*size+jk,depth), -1)"
   ]
  },
  {
   "cell_type": "code",
   "execution_count": 7,
   "id": "4f0a7aa6",
   "metadata": {},
   "outputs": [],
   "source": [
    "# Create existing-numbers-in-board constraints\n",
    "\n",
    "add_existing_numbers_constraints()\n",
    "\n",
    "# Create axis just-one constraints\n",
    "\n",
    "add_just_one_constraints_coeffs()\n",
    "\n",
    "# Create cell just-one constraints\n",
    "\n",
    "add_cell_constraints_coeffs()"
   ]
  },
  {
   "cell_type": "code",
   "execution_count": 8,
   "id": "566028e3",
   "metadata": {},
   "outputs": [],
   "source": [
    "# Construct the bqm from the linear and quadratic coefficients\n",
    "\n",
    "bqm = BinaryQuadraticModel(linear, quadratic, 0.0, BINARY)"
   ]
  },
  {
   "cell_type": "code",
   "execution_count": 9,
   "id": "8975bdd3",
   "metadata": {},
   "outputs": [
    {
     "data": {
      "text/plain": [
       "729"
      ]
     },
     "execution_count": 9,
     "metadata": {},
     "output_type": "execute_result"
    }
   ],
   "source": [
    "# Check number of variables\n",
    "\n",
    "len(bqm.variables)"
   ]
  },
  {
   "cell_type": "code",
   "execution_count": 10,
   "id": "8970c70b",
   "metadata": {},
   "outputs": [
    {
     "name": "stderr",
     "output_type": "stream",
     "text": [
      "/var/folders/yr/pvjq_ntj5tjf0860xxz55spr0000gn/T/ipykernel_11809/3805922724.py:9: SamplerUnknownArgWarning: Ignoring unknown kwarg: 'label'\n",
      "  sample_set = sampler.sample(bqm,num_reads=num_reads,label=\"QUBO Sudoku\")\n"
     ]
    },
    {
     "name": "stdout",
     "output_type": "stream",
     "text": [
      "150\n"
     ]
    }
   ],
   "source": [
    "# make sure to select 'enough' samples\n",
    "\n",
    "num_reads = 1500\n",
    "if isinstance(sampler, SimulatedAnnealingSampler):\n",
    "    num_reads = 150\n",
    "if isinstance(sampler, LeapHybridSampler):\n",
    "    sample_set = sampler.sample(bqm,label=\"QUBO Sudoku\")\n",
    "elif isinstance(sampler, SimulatedAnnealingSampler):\n",
    "    sample_set = sampler.sample(bqm,num_reads=num_reads,label=\"QUBO Sudoku\")\n",
    "    print(num_reads)\n",
    "else:\n",
    "    sample_set = sampler.sample(bqm,num_reads=num_reads,label=\"QUBO Sudoku\")\n",
    "    print(num_reads)"
   ]
  },
  {
   "cell_type": "code",
   "execution_count": 11,
   "id": "bcc1f35f",
   "metadata": {},
   "outputs": [],
   "source": [
    "# Select best sample\n",
    "\n",
    "best = sample_set.first.sample"
   ]
  },
  {
   "cell_type": "code",
   "execution_count": 12,
   "id": "98a596c4",
   "metadata": {},
   "outputs": [],
   "source": [
    "# Recover solution\n",
    "\n",
    "flattened_solution = [best[key] for key in sample_set.first.sample]"
   ]
  },
  {
   "cell_type": "code",
   "execution_count": 13,
   "id": "15ecd7be",
   "metadata": {},
   "outputs": [],
   "source": [
    "# Some helper functions to visualize the solution\n",
    "\n",
    "def get_board_value(i, j, output):\n",
    "    '''\n",
    "    Reconstructs one-hot encoded number from the flattened solution\n",
    "    '''\n",
    "    for k in range(0,maxRange):\n",
    "        index = linear_index(i, j, k)\n",
    "        if(output[index]) > 0.0:\n",
    "            return k+1\n",
    "    return None\n",
    "\n",
    "def draw_row_separator():\n",
    "    '''\n",
    "    Draws a board row separator as ASCII characters\n",
    "    '''\n",
    "    tempstr = \"\"\n",
    "    for w in range(0,size):\n",
    "        tempstr += \"+\"\n",
    "        for k in range(0,2*size+1):\n",
    "            tempstr += \"-\"\n",
    "    tempstr += \"+\"\n",
    "    print(tempstr)\n",
    "\n",
    "def draw_board(output):\n",
    "    '''\n",
    "    Draws the sudoku board as ASCII characters\n",
    "    '''\n",
    "    for i in range(0,maxRange):\n",
    "        if i%size == 0:\n",
    "            draw_row_separator()\n",
    "        tempstr = \"\"\n",
    "        for j in range(0,maxRange):\n",
    "            if j%size == 0:\n",
    "                tempstr += \"| \"\n",
    "            tempstr += (str(get_board_value(i,j,output)) + \" \")\n",
    "        tempstr += \"|\"\n",
    "        print(tempstr)\n",
    "    tempstr = \"\"\n",
    "    draw_row_separator()"
   ]
  },
  {
   "cell_type": "code",
   "execution_count": 18,
   "id": "e858efa1",
   "metadata": {},
   "outputs": [
    {
     "name": "stdout",
     "output_type": "stream",
     "text": [
      "+-------+-------+-------+\n",
      "| 4 7 8 | 3 6 5 | 1 2 9 |\n",
      "| 1 5 9 | 4 2 8 | 6 7 3 |\n",
      "| 2 6 3 | 9 1 7 | 4 8 5 |\n",
      "+-------+-------+-------+\n",
      "| 8 1 2 | 6 7 3 | 9 5 4 |\n",
      "| 9 4 5 | 2 8 1 | 3 6 7 |\n",
      "| 7 3 6 | 5 9 4 | 8 1 2 |\n",
      "+-------+-------+-------+\n",
      "| 5 8 1 | 7 3 9 | 2 4 6 |\n",
      "| 6 9 4 | 1 5 2 | 7 3 8 |\n",
      "| 3 2 7 | 8 4 6 | 5 9 1 |\n",
      "+-------+-------+-------+\n"
     ]
    }
   ],
   "source": [
    "# Draw the solution board\n",
    "\n",
    "draw_board(flattened_solution)"
   ]
  },
  {
   "cell_type": "code",
   "execution_count": 19,
   "id": "1e6d890a",
   "metadata": {},
   "outputs": [
    {
     "name": "stdout",
     "output_type": "stream",
     "text": [
      "+-------+-------+-------+\n",
      "|   7   |       |       |\n",
      "|       |       |       |\n",
      "|   6   |       |       |\n",
      "+-------+-------+-------+\n",
      "|   1 2 |       |   5   |\n",
      "|       |   8   |   6 7 |\n",
      "| 7     |       |       |\n",
      "+-------+-------+-------+\n",
      "|     1 |     9 | 2     |\n",
      "|   9   |   5   |       |\n",
      "|   2 7 |       |   9   |\n",
      "+-------+-------+-------+\n",
      "\n"
     ]
    }
   ],
   "source": [
    "# Original board\n",
    "\n",
    "puzzle.show()"
   ]
  }
 ],
 "metadata": {
  "kernelspec": {
   "display_name": "Python 3 (ipykernel)",
   "language": "python",
   "name": "python3"
  },
  "language_info": {
   "codemirror_mode": {
    "name": "ipython",
    "version": 3
   },
   "file_extension": ".py",
   "mimetype": "text/x-python",
   "name": "python",
   "nbconvert_exporter": "python",
   "pygments_lexer": "ipython3",
   "version": "3.9.7"
  }
 },
 "nbformat": 4,
 "nbformat_minor": 5
}
