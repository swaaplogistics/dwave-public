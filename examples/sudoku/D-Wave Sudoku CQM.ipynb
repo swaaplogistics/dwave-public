{
 "cells": [
  {
   "cell_type": "markdown",
   "id": "4fdae52a",
   "metadata": {},
   "source": [
    "<h1>D-Wave Hybrid solver CQM sudoku solver<h1>\n",
    "\n",
    "<h2>July 2022 by Emilio Pomares (epomares@swaap.us)<h2>"
   ]
  },
  {
   "cell_type": "code",
   "execution_count": 1,
   "id": "c96430c5",
   "metadata": {},
   "outputs": [],
   "source": [
    "# Imports\n",
    "\n",
    "from sudoku import Sudoku as s\n",
    "import numpy as np\n",
    "from dimod import SimulatedAnnealingSampler\n",
    "from dimod import ConstrainedQuadraticModel\n",
    "from dwave.system.composites import EmbeddingComposite\n",
    "from dimod import Binary\n",
    "\n",
    "from dwave.system import LeapHybridCQMSampler\n",
    "from dwave.system import DWaveSampler\n",
    "\n",
    "# We need a sampler that can work with CQM models:\n",
    "\n",
    "sampler = LeapHybridCQMSampler(token='Your API Key here')"
   ]
  },
  {
   "cell_type": "code",
   "execution_count": 2,
   "id": "e927e17e",
   "metadata": {},
   "outputs": [],
   "source": [
    "# Some helpers functions...\n",
    "\n",
    "def get_board_value(i, j, output):\n",
    "    '''\n",
    "    Utility to reconstruct one-hot encoded number from solution\n",
    "    '''\n",
    "    for k in range(1,maxRange+1):\n",
    "        if(output[f'SEL_{i}_{j}_{k}']) > 0.0:\n",
    "            return k\n",
    "    return None\n",
    "\n",
    "def draw_row_separator():\n",
    "    '''\n",
    "    Draws a board row separator as ASCII characters\n",
    "    '''\n",
    "    tempstr = \"\"\n",
    "    for w in range(0,size):\n",
    "        tempstr += \"+\"\n",
    "        for k in range(0,2*size+1):\n",
    "            tempstr += \"-\"\n",
    "    tempstr += \"+\"\n",
    "    print(tempstr)\n",
    "\n",
    "def draw_board(output):\n",
    "    '''\n",
    "    Draws the sudoku board as ASCII characters\n",
    "    '''\n",
    "    for i in range(1,maxRange+1):\n",
    "        if (i-1)%size == 0:\n",
    "            draw_row_separator()\n",
    "        tempstr = \"\"\n",
    "        for j in range(1,maxRange+1):\n",
    "            if (j-1)%size == 0:\n",
    "                tempstr += \"| \"\n",
    "            tempstr += (str(get_board_value(i,j,output)) + \" \")\n",
    "        tempstr += \"|\"\n",
    "        print(tempstr)\n",
    "    tempstr = \"\"\n",
    "    draw_row_separator()"
   ]
  },
  {
   "cell_type": "code",
   "execution_count": 3,
   "id": "e6e5214f",
   "metadata": {},
   "outputs": [],
   "source": [
    "# Define sizes\n",
    "\n",
    "size = 3\n",
    "maxRange = size*size"
   ]
  },
  {
   "cell_type": "code",
   "execution_count": 4,
   "id": "8e2ed912",
   "metadata": {},
   "outputs": [
    {
     "name": "stdout",
     "output_type": "stream",
     "text": [
      "+-------+-------+-------+\n",
      "| 5     |       |       |\n",
      "| 7     |   6   |       |\n",
      "| 2 4 3 |       |       |\n",
      "+-------+-------+-------+\n",
      "|       |       |   6   |\n",
      "| 6     |       |   3   |\n",
      "| 4     | 9     |   2 5 |\n",
      "+-------+-------+-------+\n",
      "|       |       |       |\n",
      "|       |       |       |\n",
      "|     4 |   5 3 | 2     |\n",
      "+-------+-------+-------+\n",
      "\n"
     ]
    }
   ],
   "source": [
    "# Generate a puzzle and visualize it\n",
    "\n",
    "puzzle = s(size).difficulty(0.8)\n",
    "puzzle.show()"
   ]
  },
  {
   "cell_type": "code",
   "execution_count": 5,
   "id": "1a42a453",
   "metadata": {},
   "outputs": [
    {
     "name": "stdout",
     "output_type": "stream",
     "text": [
      "+-------+-------+-------+\n",
      "| 5 6 9 | 3 2 8 | 1 4 7 |\n",
      "| 7 1 8 | 4 6 5 | 3 9 2 |\n",
      "| 2 4 3 | 1 7 9 | 8 5 6 |\n",
      "+-------+-------+-------+\n",
      "| 8 9 5 | 7 3 2 | 4 6 1 |\n",
      "| 6 2 7 | 5 1 4 | 9 3 8 |\n",
      "| 4 3 1 | 9 8 6 | 7 2 5 |\n",
      "+-------+-------+-------+\n",
      "| 3 5 2 | 8 9 1 | 6 7 4 |\n",
      "| 9 8 6 | 2 4 7 | 5 1 3 |\n",
      "| 1 7 4 | 6 5 3 | 2 8 9 |\n",
      "+-------+-------+-------+\n",
      "\n"
     ]
    }
   ],
   "source": [
    "# Use built-in solver to obtain a solution...\n",
    "\n",
    "puzzle.solve().show()"
   ]
  },
  {
   "cell_type": "code",
   "execution_count": 6,
   "id": "7ebec4c7",
   "metadata": {},
   "outputs": [
    {
     "data": {
      "text/plain": [
       "[[5, None, None, None, None, None, None, None, None],\n",
       " [7, None, None, None, 6, None, None, None, None],\n",
       " [2, 4, 3, None, None, None, None, None, None],\n",
       " [None, None, None, None, None, None, None, 6, None],\n",
       " [6, None, None, None, None, None, None, 3, None],\n",
       " [4, None, None, 9, None, None, None, 2, 5],\n",
       " [None, None, None, None, None, None, None, None, None],\n",
       " [None, None, None, None, None, None, None, None, None],\n",
       " [None, None, 4, None, 5, 3, 2, None, None]]"
      ]
     },
     "execution_count": 6,
     "metadata": {},
     "output_type": "execute_result"
    }
   ],
   "source": [
    "# Show board data encodings\n",
    "\n",
    "puzzle.board"
   ]
  },
  {
   "cell_type": "markdown",
   "id": "55ff66cc",
   "metadata": {},
   "source": [
    "<h3>Let's encode the number in each cell as a one-hot encoded vector of length maxRange, \n",
    "thus, the sudoku board becomes a cube of (maxRange x maxRange x maxRange) binary variables</h3>"
   ]
  },
  {
   "cell_type": "code",
   "execution_count": 7,
   "id": "baccd7f5",
   "metadata": {},
   "outputs": [],
   "source": [
    "# Initialize cqm\n",
    "\n",
    "cqm = ConstrainedQuadraticModel()"
   ]
  },
  {
   "cell_type": "code",
   "execution_count": 8,
   "id": "9c92899e",
   "metadata": {},
   "outputs": [],
   "source": [
    "# Create maxRange x maxRange x maxRange i_j_k binary variables\n",
    "\n",
    "selected = [[[Binary(f'SEL_{i}_{j}_{k}') for k in range(1, maxRange+1)] \n",
    "             for j in range(1, maxRange+1)] for i in range(1, maxRange+1)]"
   ]
  },
  {
   "cell_type": "markdown",
   "id": "27c15f8d",
   "metadata": {},
   "source": [
    "<h3>We need to add three families of constraints to solve a sudoku: <br><br>\n",
    "\n",
    "        1. Numbers present in challenge must be preserved\n",
    "        2. Numbers cannot repeat accross columns and rows\n",
    "        3. Numbers cannot repeat across (size x size) cells\n",
    "\n",
    "</h3>"
   ]
  },
  {
   "cell_type": "code",
   "execution_count": 9,
   "id": "de0a7fd3",
   "metadata": {},
   "outputs": [],
   "source": [
    "# Create existing-numbers-in-board constraints\n",
    "\n",
    "for i in range(0,maxRange):\n",
    "    for j in range(0,maxRange):\n",
    "        if puzzle.board[i][j]:\n",
    "            sk = puzzle.board[i][j]-1\n",
    "            for k in range(0,maxRange):\n",
    "                if k == sk:\n",
    "                    cqm.add_constraint(selected[i][j][k] == 1, \n",
    "                        label = f'existing_number_{i+1}_{j+1}_{k+1}')\n",
    "                else:\n",
    "                    cqm.add_constraint(selected[i][j][k] == 0, \n",
    "                        label = f'existing_number_{i+1}_{j+1}_{k+1}')"
   ]
  },
  {
   "cell_type": "code",
   "execution_count": 10,
   "id": "d7c9bf67",
   "metadata": {},
   "outputs": [],
   "source": [
    "# Create axis just-one constraints\n",
    "\n",
    "for i in range(0,maxRange):\n",
    "    for j in range(0,maxRange):\n",
    "        sum_x = []\n",
    "        sum_y = []\n",
    "        sum_z = []\n",
    "        for k in range(0,maxRange):\n",
    "            sum_x.append(selected[i][j][k])\n",
    "            sum_y.append(selected[j][k][i])\n",
    "            sum_z.append(selected[k][i][j])\n",
    "        cqm.add_constraint(sum(sum_x) == 1, \n",
    "            label = f'only_one_axis_X_{i+1}_{j+1}')\n",
    "        cqm.add_constraint(sum(sum_y) == 1, \n",
    "            label = f'only_one_axis_Y_{i+1}_{j+1}')\n",
    "        cqm.add_constraint(sum(sum_z) == 1, \n",
    "            label = f'only_one_axis_Z_{i+1}_{j+1}')\n"
   ]
  },
  {
   "cell_type": "code",
   "execution_count": 11,
   "id": "d2adf9ed",
   "metadata": {},
   "outputs": [],
   "source": [
    "# Create cell just-one constraints\n",
    "\n",
    "for i_cell in range(0,size):\n",
    "    for j_cell in range(0,size):\n",
    "        for k in range(0,maxRange):\n",
    "            sum_cell = []\n",
    "            for i in range(0, size):\n",
    "                for j in range(0, size):   \n",
    "                    sum_cell.append(selected[i_cell*size+i][j_cell*size+j][k])\n",
    "            cqm.add_constraint(sum(sum_cell) == 1, label = f'only_one_cell_Z_{i_cell}_{j_cell}_{k}')"
   ]
  },
  {
   "cell_type": "code",
   "execution_count": 12,
   "id": "f1d24338",
   "metadata": {},
   "outputs": [
    {
     "data": {
      "text/plain": [
       "729"
      ]
     },
     "execution_count": 12,
     "metadata": {},
     "output_type": "execute_result"
    }
   ],
   "source": [
    "# Check number of variables\n",
    "\n",
    "len(cqm.variables)"
   ]
  },
  {
   "cell_type": "code",
   "execution_count": 13,
   "id": "6d04db7d",
   "metadata": {},
   "outputs": [
    {
     "name": "stdout",
     "output_type": "stream",
     "text": [
      "These many feasible solutions found: 25\n"
     ]
    }
   ],
   "source": [
    "# Sample solutions\n",
    "\n",
    "sampleset = sampler.sample_cqm(cqm,time_limit=25,label=\"CQM Sudoku\") \n",
    "feasible_sampleset = sampleset.filter(lambda row: row.is_feasible)\n",
    "n_solutions = len(feasible_sampleset)\n",
    "if n_solutions == 0:\n",
    "    print(\"No solutions found, try increasing time_limit!\")\n",
    "    assert 0==1\n",
    "else:\n",
    "    print(\"These many feasible solutions found: \" + str(len(feasible_sampleset)))"
   ]
  },
  {
   "cell_type": "code",
   "execution_count": 14,
   "id": "3dde1c9d",
   "metadata": {},
   "outputs": [],
   "source": [
    "# Select best sample and build solution dictionary\n",
    "\n",
    "best = feasible_sampleset.first\n",
    "best.sample.items()\n",
    "output = {}\n",
    "for key, value in best.sample.items():\n",
    "    output[key]=value"
   ]
  },
  {
   "cell_type": "code",
   "execution_count": 15,
   "id": "cfe62f9e",
   "metadata": {
    "scrolled": true
   },
   "outputs": [
    {
     "name": "stdout",
     "output_type": "stream",
     "text": [
      "+-------+-------+-------+\n",
      "| 5 1 6 | 2 8 4 | 9 7 3 |\n",
      "| 7 8 9 | 3 6 5 | 4 1 2 |\n",
      "| 2 4 3 | 1 9 7 | 6 5 8 |\n",
      "+-------+-------+-------+\n",
      "| 3 9 1 | 5 2 8 | 7 6 4 |\n",
      "| 6 2 5 | 7 4 1 | 8 3 9 |\n",
      "| 4 7 8 | 9 3 6 | 1 2 5 |\n",
      "+-------+-------+-------+\n",
      "| 9 3 7 | 4 1 2 | 5 8 6 |\n",
      "| 8 5 2 | 6 7 9 | 3 4 1 |\n",
      "| 1 6 4 | 8 5 3 | 2 9 7 |\n",
      "+-------+-------+-------+\n"
     ]
    }
   ],
   "source": [
    "# Draw the solution board\n",
    "\n",
    "draw_board(output)"
   ]
  },
  {
   "cell_type": "code",
   "execution_count": 16,
   "id": "e79fe986",
   "metadata": {},
   "outputs": [
    {
     "name": "stdout",
     "output_type": "stream",
     "text": [
      "+-------+-------+-------+\n",
      "| 5     |       |       |\n",
      "| 7     |   6   |       |\n",
      "| 2 4 3 |       |       |\n",
      "+-------+-------+-------+\n",
      "|       |       |   6   |\n",
      "| 6     |       |   3   |\n",
      "| 4     | 9     |   2 5 |\n",
      "+-------+-------+-------+\n",
      "|       |       |       |\n",
      "|       |       |       |\n",
      "|     4 |   5 3 | 2     |\n",
      "+-------+-------+-------+\n",
      "\n"
     ]
    }
   ],
   "source": [
    "# Compare with input\n",
    "\n",
    "puzzle.show()"
   ]
  }
 ],
 "metadata": {
  "kernelspec": {
   "display_name": "Python 3 (ipykernel)",
   "language": "python",
   "name": "python3"
  },
  "language_info": {
   "codemirror_mode": {
    "name": "ipython",
    "version": 3
   },
   "file_extension": ".py",
   "mimetype": "text/x-python",
   "name": "python",
   "nbconvert_exporter": "python",
   "pygments_lexer": "ipython3",
   "version": "3.9.7"
  }
 },
 "nbformat": 4,
 "nbformat_minor": 5
}
